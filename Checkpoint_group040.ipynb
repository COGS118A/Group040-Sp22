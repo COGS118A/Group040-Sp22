{
  "cells": [
    {
      "cell_type": "markdown",
      "metadata": {
        "id": "CsK8nkYhjvzv"
      },
      "source": [
        "# COGS 118A- Can we always win in Connect 4 for any Scenario?\n",
        "\n",
        "---\n",
        "\n"
      ]
    },
    {
      "cell_type": "markdown",
      "metadata": {
        "id": "xKzdUniljvzw"
      },
      "source": [
        "# Names\n",
        "\n",
        "- William Lynch \n",
        "- Lazar Katanic\n",
        "- Hwi Yeo\n",
        "- Gordon Chiu\n",
        "- Ryan Kim"
      ]
    },
    {
      "cell_type": "markdown",
      "metadata": {
        "id": "osjlLJH9jvzx"
      },
      "source": [
        "# Abstract \n",
        "\n",
        "Our goal is to figure if it is possible to always win in a game of connect four. Since there are over 4 trillion different board states, we want to determine whether or not given any board state in a game without a guaranteed loss in the next move can result in a victory for the player red. Our data represents all possible board states where either player has not won yet. It is measured by having a variable for every single spot in a connect four board, and which piece is in that spot. Other variables include the two players, the board itself, the number of turns required to win, and the winrate if it is not guaranteed. We will be creating a neural network with these variables to maximize the possibility of winning in a connect four match in any scenario. Success will be determined when our neural nets only stop looking for the best net. "
      ]
    },
    {
      "cell_type": "markdown",
      "metadata": {
        "id": "Ek-DgHrojvzx"
      },
      "source": [
        "# Background\n",
        "\n",
        "In a study conducted to predict performance of paging workloads using lightweight tracing, Ariel N. Burton and Paul H. J. Kelly of the Department of Computing, Imperial College London, utilized the Connect-4 Dataset to construct an optimal decision tree<a name=“pagingworkloads></a>[<sup>[1]</sup>](#pagingworkloads).\n",
        "\n",
        "In a study conducted by Marvin Oliver Schneider and João Luís Garcia Rosa, labeled “Neural Connect 4 – A Connectionist Approach to the Game”. Using a supervised backpropagation algorithm optimized success rate for connect-4, leading to a 97% chance of success<a name=“neural4></a>[<sup>[2]</sup>](#neural4)."
      ]
    },
    {
      "cell_type": "markdown",
      "metadata": {
        "id": "Ab_OK56Ljvzy"
      },
      "source": [
        "# Problem Statement\n",
        "\n",
        "We want to know if a given board state is guaranteed to win or lose for the player red if the next turn is not a loss on the next turn. If it is not guaranteed, we will determine the optimal way to win or draw from a losing board, or vice versa. This will be done by determining best possible move in a given scenario to win in the least possible turns and has the most consistent chances of winning. Win or loss percentages will be determined based on the results. \n"
      ]
    },
    {
      "cell_type": "markdown",
      "metadata": {
        "id": "8f5Yg0esjvzy"
      },
      "source": [
        "# Data\n",
        "\n",
        "The database we will be using for our project is the UCI Connect-4 Opening database, originally donated by John Tromp in 1995.<a name=\"uciconnect-4\"></a>[<sup>[3]</sup>](#uciconnect-4)\n",
        "\n",
        "This database contains all legal 8-ply positions in the game of connect-4 in which neither player has won yet, and in which the next move is not forced. This includes 67,557 unique game states.\n",
        "\n",
        "Each game state has 42 attributes to represent each position on the board (6x6), each of which can either be player 1’s piece, player 2’s piece, or a blank space. Each game state also includes whether it is a win, loss, or draw, which is is the game theoretical value for the first player. This leads to a total of 43 attributes for 67,558 observations.\n",
        "\n",
        "To clean our data, we read the data as a `numpy` array with a shape of `(67557, 6, 6)` that holds all 67,557 6x6 board states. Additionally there is a second `numpy` array that is of shape `(67557, 1)` that holds the game theoretical value for the first player."
      ]
    },
    {
      "cell_type": "markdown",
      "metadata": {
        "id": "yiHg-8tBjvzy"
      },
      "source": [
        "\n",
        "Our dataset will be solved by a neural network, recognizing patterns through the different board states and potential moves to simulate games of connect four based on the situation. We are going to use numpy and matplotlib libraries to implement visual representations of our solutions. We will be following a decision tree and minimax algorithm to consider all of the different board combinations that are possible in a game, and find the optimal move that someone should take considering that another person is also playing in optimally in the game. We will be using the alpha-beta pruning method of minimax to help simulate connect 4.   "
      ]
    },
    {
      "cell_type": "markdown",
      "metadata": {
        "id": "iSXZ3SNPjvzz"
      },
      "source": [
        "# Evaluation Metrics\n",
        "\n",
        "A point system will be set up to calculate whether or not a certain move benefits or harms the chances of winning. A good move will increase the number of points, whereas a bad move will decrease the points. This metric will be determined through the number of connected pieces and the number of potential pieces the other player could connect within the next move. The proportion between winning and losing in the end after a move and the number of turns it takes to reach the win will be related to making a good move. Ex: If putting red in the far right causes more losses in the end it will be considered a bad move (-1 point) ; if it takes more turns to win (a blunder) it will also be considered a bad move at a lower degree (-0.5 point) . \n",
        "\n",
        "We have a preliminary script running a simulation of connect4 for testing purposes.  Currently the simulator is awaiting final data training output so as to handle streamlined data testing.  Simulator currently functional for two players competing against eachother and random computer.  Awaiting model for final simulator.  "
      ]
    },
    {
      "cell_type": "markdown",
      "metadata": {
        "id": "Qd0Tkqsjjvz0"
      },
      "source": [
        "# Preliminary results\n",
        "\n",
        "NEW SECTION!\n",
        "\n",
        "Please show any preliminary results you have managed to obtain.\n",
        "\n",
        "Examples would include:\n",
        "- Analyzing the suitability of a dataset or alogrithm for prediction/solving your problem \n",
        "- Performing feature selection or hand-designing features from the raw data. Describe the features available/created and/or show the code for selection/creation\n",
        "- Showing the performance of a base model/hyper-parameter setting.  Solve the task with one \"default\" algorithm and characterize the performance level of that base model.\n",
        "- Learning curves or validation curves for a particular model\n",
        "- Tables/graphs showing the performance of different models/hyper-parameters\n",
        "\n"
      ]
    },
    {
      "cell_type": "markdown",
      "metadata": {
        "id": "Frx4SWRGjvz0"
      },
      "source": [
        "# Ethics & Privacy"
      ]
    },
    {
      "cell_type": "markdown",
      "metadata": {
        "id": "HYyoCXdojvz1"
      },
      "source": [
        "A potential ethical concern with our project could be the lack of transparency of our model, making it unintelligble to humans how decisions are made by the model. Deep learning is a black box that is susceptible to issues such as: discrimination, bias, among other inaccuracies. Though this model is confined to the game of connect-4 and does not pose any real world harm, the extrapolation of the model in other systems may cause concern."
      ]
    },
    {
      "cell_type": "markdown",
      "metadata": {
        "id": "Okjt-IDdjvz1"
      },
      "source": [
        "# Team Expectations "
      ]
    },
    {
      "cell_type": "markdown",
      "metadata": {
        "id": "1nudVqK2jvz1"
      },
      "source": [
        "* We will make decisions based on meeting our project deadlines and by keeping an open channel for communication.\n",
        "* Whenever we complete a significant section of the project, we will share our contribution to each other for feedback \n",
        "* Whenever we run into something we do not know what to do, we will ask for help so that we can completely this project efficiently and accurately so that we can run into as little bugs as possible\n",
        "* We will ensure that we leave a specific part of our week to call to brainstorm what our next move is.\n",
        "* We also intend on each working the same amount on the project.\n",
        "* In case of conflict, we will move ahead with the decisions of what the majority of the group decides to do.\n",
        "* If someone becomes sick, we will be more accomodating and try to provide less work if necessary to give them time to rest to ultimately improve the quality of the project and keep people healthy. \n",
        "\n",
        "\n"
      ]
    },
    {
      "cell_type": "markdown",
      "metadata": {
        "id": "7Tna2LaUjvz1"
      },
      "source": [
        "# Project Timeline Proposal"
      ]
    },
    {
      "cell_type": "markdown",
      "metadata": {
        "id": "-bJH-7Uyjvz1"
      },
      "source": [
        "UPDATE THE PROPOSAL TIMELINE ACCORDING TO WHAT HAS ACTUALLY HAPPENED AND HOW IT HAS EFFECTED YOUR FUTURE PLANS\n",
        "\n",
        "| Meeting Date  | Meeting Time| Completed Before Meeting  | Discuss at Meeting |\n",
        "|---|---|---|---|\n",
        "| 4/21  |  11 AM |  Brainstorm topics/questions (all)  | Determine best form of communication; Discuss and decide on final project topic; discuss hypothesis; begin background research | \n",
        "| 4/22  |  10 PM |  Do background research on topic (All) | Discuss ideal dataset(s);| \n",
        "| 4/24  | 10 PM  | Edit, finalize, and submit proposal; Search for datasets (All)  |  Assign group members to lead each specific part   |\n",
        "| 5/10  | 4 PM  | Import & Wrangle Data; Discuss the project based on proposal feedback  | Review/Edit wrangling; Preliminary Results and Confirmed Algorithm| \n",
        "| 5/25  | 12 PM  | Finalize wrangling; Begin programming for project (All) | Discuss/edit project code; Complete project |\n",
        "| 5/30 | 9 PM  | Complete analysis; Draft results/conclusion/discussion (All)| Discuss/edit full project |\n",
        "| 6/08  | Before 11:59 PM  | Review the finalized version of project and analysis (All) | Turn in Final Project  |"
      ]
    },
    {
      "cell_type": "markdown",
      "metadata": {
        "id": "9_1QVSTOjvz2"
      },
      "source": [
        "# Footnotes\n",
        "<a name=\"pagingworkloads\"></a>1.[^](#pagingworkloads): Ariel N Burton &\n",
        "Paul H J Kelly. Performance prediction of paging workloads using lightweight tracing. Department of Computing, Imperial College London. https://www.doc.ic.ac.uk/~phjk/Publications/PagingWorkloads-IPDPS-PMEO-2003.pdf<br> \n",
        "<a name=\"neural4\"></a>2.[^](#neural4): “Neural Connect 4” proves that artificial neural networks are completely adequate for learning Connect Four, given that certain principles are observed. https://citeseerx.ist.psu.edu/viewdoc/download?doi=10.1.1.11.5368&rep=rep1&type=pdf<br>\n",
        "<a name=\"uciconnect\"></a>3.[^](#uciconnect-4): Tromp, John. (1995). Connect-4. UCI Machine Learning Repository. https://archive-beta.ics.uci.edu/ml/datasets/connect+4<br>"
      ]
    },
    {
      "cell_type": "code",
      "execution_count": null,
      "metadata": {
        "id": "wW0CD6Wejvz2"
      },
      "outputs": [],
      "source": [
        ""
      ]
    }
  ],
  "metadata": {
    "kernelspec": {
      "display_name": "Python 3",
      "language": "python",
      "name": "python3"
    },
    "language_info": {
      "codemirror_mode": {
        "name": "ipython",
        "version": 3
      },
      "file_extension": ".py",
      "mimetype": "text/x-python",
      "name": "python",
      "nbconvert_exporter": "python",
      "pygments_lexer": "ipython3",
      "version": "3.8.8"
    },
    "colab": {
      "name": "Checkpoint_group040.ipynb",
      "provenance": [],
      "collapsed_sections": []
    }
  },
  "nbformat": 4,
  "nbformat_minor": 0
}