{
  "cells": [
    {
      "cell_type": "markdown",
      "metadata": {
        "id": "99uQTvTqXtME"
      },
      "source": [
        "# COGS 118A- Project Proposal"
      ]
    },
    {
      "cell_type": "markdown",
      "metadata": {
        "id": "V41Ms-WNXtMI"
      },
      "source": [
        "### Peer Review\n",
        "\n",
        "You will all have an opportunity to look at the Project Proposals of other groups to fuel your creativity and get more ideas for how you can improve your own projects. \n",
        "\n",
        "Both the project proposal and project checkpoint will have peer review."
      ]
    },
    {
      "cell_type": "markdown",
      "metadata": {
        "id": "U5sba5HJXtMI"
      },
      "source": [
        "# Names\n",
        "\n",
        "- William Lynch \n",
        "- Lazar Katanic\n",
        "- Hwi Yeo\n",
        "- Gordon Chiu\n",
        "- Ryan Kim"
      ]
    },
    {
      "cell_type": "markdown",
      "metadata": {
        "id": "zG-UmSWmXtMI"
      },
      "source": [
        "# Abstract \n",
        "\n",
        "Our goal is to figure if it is possible to always win in a game of connect four. Our data represents all possible board states where either player has not won yet. It is measured by having a variable for every single spot in a connect four board, and which piece is in that spot. We will be creating a neural network with these variables to maximize the possibility of winning in a connect four match in any scenario. Success will be determined when our neural nets only stop looking for the best net. "
      ]
    },
    {
      "cell_type": "markdown",
      "metadata": {
        "id": "miSpkWK0XtMJ"
      },
      "source": [
        "# Background\n",
        "\n",
        "In a study conducted to predict performance of paging workloads using lightweight tracing, Ariel N. Burton and Paul H. J. Kelly of the Department of Computing, Imperial College London, utilized the Connect-4 Dataset to construct an optimal decision tree<a name=“pagingworkloads></a>[<sup>[1]</sup>](#pagingworkloads).\n",
        "\n",
        "In a study conducted by Marvin Oliver Schneider and João Luís Garcia Rosa, labeled “Neural Connect 4 – A Connectionist Approach to the Game”. Using a supervised backpropagation algorithm optimized success rate for connect-4, leading to a 97% chance of success<a name=“neural4></a>[<sup>[2]</sup>](#neural4)."
      ]
    },
    {
      "cell_type": "markdown",
      "metadata": {
        "id": "Gr2ROAP4XtMJ"
      },
      "source": [
        "# Problem Statement\n",
        "\n",
        "We want to know if a given board state is guaranteed to win or lose. If it is not guaranteed, we will determine the optimal way to win or draw from a losing board, or vice versa. Win or loss percentages will be determined based on the results. \n"
      ]
    },
    {
      "cell_type": "markdown",
      "metadata": {
        "id": "bc9KxqNYXtMK"
      },
      "source": [
        "# Data\n",
        "\n",
        "Link to data: http://archive.ics.uci.edu/ml/datasets/connect-4\n",
        "\n",
        "42 variables, 67558 observations\n",
        "\n",
        "Every observation contains every possible scenario in connect-4, with each variable representing a position within the board. It does not include scenarios where either player has already won, or a move is not forced (player must block a position that would otherwise cause the other player to win). The data contains a variable that is not required for our model and will be removed for cleaning. "
      ]
    },
    {
      "cell_type": "markdown",
      "metadata": {
        "id": "zWZzlmYCXtMK"
      },
      "source": [
        "# Proposed Solution\n",
        "\n",
        "Our dataset will be solved by a neural network, recognizing patterns through the different board states and potential moves to simulate games of connect four based on the situation. We are going to use numpy and matplotlib libraries to implement visual representations of our solutions   "
      ]
    },
    {
      "cell_type": "markdown",
      "metadata": {
        "id": "FaXurN4AXtML"
      },
      "source": [
        "# Evaluation Metrics\n",
        "\n",
        "A point system will be set up to calculate whether or not a certain move benefits or harms the chances of winning. A good move will increase the number of points, whereas a bad move will decrease the points. This metric will be determined through the number of connected pieces and the number of potential pieces the other player could connect within the next move. "
      ]
    },
    {
      "cell_type": "markdown",
      "metadata": {
        "id": "Xlyh0jY5XtML"
      },
      "source": [
        "# Ethics & Privacy"
      ]
    },
    {
      "cell_type": "markdown",
      "metadata": {
        "id": "BSoXOCVcXtML"
      },
      "source": [
        "A potential ethical concern with our project could be the lack of transparency of our model, making it unintelligble to humans how decisions are made by the model. Deep learning is a black box that is susceptible to issues such as: discrimination, bias, among other inaccuracies. Though this model is confined to the game of connect-4 and does not pose any real world harm, the extrapolation of the model in other systems may cause concern."
      ]
    },
    {
      "cell_type": "markdown",
      "metadata": {
        "id": "D9oJp5WFXtMM"
      },
      "source": [
        "# Team Expectations "
      ]
    },
    {
      "cell_type": "markdown",
      "metadata": {
        "id": "0ak0n95cXtMM"
      },
      "source": [
        "* We will make decisions based on metting our project deadlines and by keeping an open channel for communication.\n",
        "* We also intend on each working the same amount on the project.\n",
        "* In case of conflict, we will move ahead with the decisions of what the majority of the group decides to do."
      ]
    },
    {
      "cell_type": "markdown",
      "metadata": {
        "id": "iexPH8i5XtMM"
      },
      "source": [
        "# Project Timeline Proposal"
      ]
    },
    {
      "cell_type": "markdown",
      "metadata": {
        "id": "v6PppLSBXtMM"
      },
      "source": [
        "Replace this with something meaningful that is appropriate for your needs. It doesn't have to be something that fits this format.  It doesn't have to be set in stone... \"no battle plan survives contact with the enemy\". But you need a battle plan nonetheless, and you need to keep it updated so you understand what you are trying to accomplish, who's responsible for what, and what the expected due dates are for each item.\n",
        "\n",
        "| Meeting Date  | Meeting Time| Completed Before Meeting  | Discuss at Meeting |\n",
        "|---|---|---|---|\n",
        "| 4/21  |  11 AM |  Brainstorm topics/questions (all)  | Determine best form of communication; Discuss and decide on final project topic; discuss hypothesis; begin background research | \n",
        "| 4/22  |  10 PM |  Do background research on topic (All) | Discuss ideal dataset(s);| \n",
        "| 4/24  | 10 PM  | Edit, finalize, and submit proposal; Search for datasets (All)  |  Assign group members to lead each specific part   |\n",
        "| 4/28  | 4 PM  | Import & Wrangle Data; Discuss the project based on proposal feedback  | Review/Edit wrangling; |\n",
        "| 5/15  | 12 PM  | Finalize wrangling; Begin programming for project (All) | Discuss/edit project code; Complete project |\n",
        "| 5/20  | 9 PM  | Complete analysis; Draft results/conclusion/discussion (All)| Discuss/edit full project |\n",
        "| 6/08  | Before 11:59 PM  | Review the finalized version of project and analysis (All) | Turn in Final Project  |\n"
      ]
    },
    {
      "cell_type": "markdown",
      "metadata": {
        "id": "gCMx_CB1XtMN"
      },
      "source": [
        "# Footnotes\n",
        "<a name=\"pagingworkloads\"></a>1.[^](#pagingworkloads): Ariel N Burton &\n",
        "Paul H J Kelly. Performance prediction of paging workloads using lightweight tracing. Department of Computing, Imperial College London. https://www.doc.ic.ac.uk/~phjk/Publications/PagingWorkloads-IPDPS-PMEO-2003.pdf<br> \n",
        "<a name=\"neural4\"></a>2.[^](#neural4): “Neural Connect 4” proves that artificial neural networks are completely adequate for learning Connect Four, given that certain principles are observed. https://citeseerx.ist.psu.edu/viewdoc/download?doi=10.1.1.11.5368&rep=rep1&type=pdf<br>"
      ]
    },
    {
      "cell_type": "code",
      "execution_count": null,
      "metadata": {
        "id": "e3FGAtZFXtMN"
      },
      "outputs": [],
      "source": [
        ""
      ]
    }
  ],
  "metadata": {
    "kernelspec": {
      "display_name": "Python 3 (ipykernel)",
      "language": "python",
      "name": "python3"
    },
    "language_info": {
      "codemirror_mode": {
        "name": "ipython",
        "version": 3
      },
      "file_extension": ".py",
      "mimetype": "text/x-python",
      "name": "python",
      "nbconvert_exporter": "python",
      "pygments_lexer": "ipython3",
      "version": "3.9.5"
    },
    "colab": {
      "name": "ProposalGroup040-Sp22.ipynb",
      "provenance": [],
      "collapsed_sections": []
    }
  },
  "nbformat": 4,
  "nbformat_minor": 0
}